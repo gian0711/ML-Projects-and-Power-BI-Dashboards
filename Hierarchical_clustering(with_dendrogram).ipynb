{
  "cells": [
    {
      "cell_type": "code",
      "execution_count": null,
      "metadata": {
        "id": "wCppoxBTdJDT"
      },
      "outputs": [],
      "source": [
        "import pandas as pd\n",
        "import numpy as np\n",
        "import matplotlib.pyplot as plt\n",
        "import seaborn as sns"
      ]
    },
    {
      "cell_type": "code",
      "source": [
        "df = pd.read_csv('countries_of_the_world.csv')"
      ],
      "metadata": {
        "id": "GKU-gYd5yY_I"
      },
      "execution_count": null,
      "outputs": []
    },
    {
      "cell_type": "code",
      "execution_count": null,
      "metadata": {
        "colab": {
          "base_uri": "https://localhost:8080/"
        },
        "id": "1jINxIn-dJDW",
        "outputId": "b7cd6d8d-f487-4ad2-f107-9b9807d6b6b3"
      },
      "outputs": [
        {
          "output_type": "stream",
          "name": "stdout",
          "text": [
            "<class 'pandas.core.frame.DataFrame'>\n",
            "RangeIndex: 227 entries, 0 to 226\n",
            "Data columns (total 21 columns):\n",
            " #   Column                              Non-Null Count  Dtype  \n",
            "---  ------                              --------------  -----  \n",
            " 0   Unnamed: 0                          227 non-null    int64  \n",
            " 1   Country                             227 non-null    object \n",
            " 2   Region                              227 non-null    object \n",
            " 3   Population                          227 non-null    int64  \n",
            " 4   Area (sq. mi.)                      227 non-null    int64  \n",
            " 5   Pop. Density (per sq. mi.)          227 non-null    float64\n",
            " 6   Coastline (coast/area ratio)        227 non-null    float64\n",
            " 7   Net migration                       224 non-null    float64\n",
            " 8   Infant mortality (per 1000 births)  224 non-null    float64\n",
            " 9   GDP ($ per capita)                  226 non-null    float64\n",
            " 10  Literacy (%)                        209 non-null    float64\n",
            " 11  Phones (per 1000)                   223 non-null    float64\n",
            " 12  Arable (%)                          225 non-null    float64\n",
            " 13  Crops (%)                           225 non-null    float64\n",
            " 14  Other (%)                           225 non-null    float64\n",
            " 15  Climate                             205 non-null    float64\n",
            " 16  Birthrate                           224 non-null    float64\n",
            " 17  Deathrate                           223 non-null    float64\n",
            " 18  Agriculture                         212 non-null    float64\n",
            " 19  Industry                            211 non-null    float64\n",
            " 20  Service                             212 non-null    float64\n",
            "dtypes: float64(16), int64(3), object(2)\n",
            "memory usage: 37.4+ KB\n"
          ]
        }
      ],
      "source": [
        "df.info()"
      ]
    },
    {
      "cell_type": "code",
      "source": [
        "df.head()"
      ],
      "metadata": {
        "colab": {
          "base_uri": "https://localhost:8080/",
          "height": 473
        },
        "id": "C_Rw7guk_wyo",
        "outputId": "355e68cd-5c2d-4291-de77-9425bb49c96c"
      },
      "execution_count": null,
      "outputs": [
        {
          "output_type": "execute_result",
          "data": {
            "text/plain": [
              "   Unnamed: 0          Country                               Region  \\\n",
              "0           0     Afghanistan         ASIA (EX. NEAR EAST)            \n",
              "1           1         Albania   EASTERN EUROPE                        \n",
              "2           2         Algeria   NORTHERN AFRICA                       \n",
              "3           3  American Samoa   OCEANIA                               \n",
              "4           4         Andorra   WESTERN EUROPE                        \n",
              "\n",
              "   Population  Area (sq. mi.)  Pop. Density (per sq. mi.)  \\\n",
              "0    31056997          647500                        48.0   \n",
              "1     3581655           28748                       124.6   \n",
              "2    32930091         2381740                        13.8   \n",
              "3       57794             199                       290.4   \n",
              "4       71201             468                       152.1   \n",
              "\n",
              "   Coastline (coast/area ratio)  Net migration  \\\n",
              "0                          0.00          23.06   \n",
              "1                          1.26          -4.93   \n",
              "2                          0.04          -0.39   \n",
              "3                         58.29         -20.71   \n",
              "4                          0.00           6.60   \n",
              "\n",
              "   Infant mortality (per 1000 births)  GDP ($ per capita)  ...  \\\n",
              "0                              163.07               700.0  ...   \n",
              "1                               21.52              4500.0  ...   \n",
              "2                               31.00              6000.0  ...   \n",
              "3                                9.27              8000.0  ...   \n",
              "4                                4.05             19000.0  ...   \n",
              "\n",
              "   Phones (per 1000)  Arable (%)  Crops (%)  Other (%)  Climate  Birthrate  \\\n",
              "0                3.2       12.13       0.22      87.65      1.0      46.60   \n",
              "1               71.2       21.09       4.42      74.49      3.0      15.11   \n",
              "2               78.1        3.22       0.25      96.53      1.0      17.14   \n",
              "3              259.5       10.00      15.00      75.00      2.0      22.46   \n",
              "4              497.2        2.22       0.00      97.78      3.0       8.71   \n",
              "\n",
              "   Deathrate  Agriculture  Industry  Service  \n",
              "0      20.34        0.380     0.240    0.380  \n",
              "1       5.22        0.232     0.188    0.579  \n",
              "2       4.61        0.101     0.600    0.298  \n",
              "3       3.27          NaN       NaN      NaN  \n",
              "4       6.25          NaN       NaN      NaN  \n",
              "\n",
              "[5 rows x 21 columns]"
            ],
            "text/html": [
              "\n",
              "  <div id=\"df-98573a7e-fde1-4ef9-8447-8da9710e022c\">\n",
              "    <div class=\"colab-df-container\">\n",
              "      <div>\n",
              "<style scoped>\n",
              "    .dataframe tbody tr th:only-of-type {\n",
              "        vertical-align: middle;\n",
              "    }\n",
              "\n",
              "    .dataframe tbody tr th {\n",
              "        vertical-align: top;\n",
              "    }\n",
              "\n",
              "    .dataframe thead th {\n",
              "        text-align: right;\n",
              "    }\n",
              "</style>\n",
              "<table border=\"1\" class=\"dataframe\">\n",
              "  <thead>\n",
              "    <tr style=\"text-align: right;\">\n",
              "      <th></th>\n",
              "      <th>Unnamed: 0</th>\n",
              "      <th>Country</th>\n",
              "      <th>Region</th>\n",
              "      <th>Population</th>\n",
              "      <th>Area (sq. mi.)</th>\n",
              "      <th>Pop. Density (per sq. mi.)</th>\n",
              "      <th>Coastline (coast/area ratio)</th>\n",
              "      <th>Net migration</th>\n",
              "      <th>Infant mortality (per 1000 births)</th>\n",
              "      <th>GDP ($ per capita)</th>\n",
              "      <th>...</th>\n",
              "      <th>Phones (per 1000)</th>\n",
              "      <th>Arable (%)</th>\n",
              "      <th>Crops (%)</th>\n",
              "      <th>Other (%)</th>\n",
              "      <th>Climate</th>\n",
              "      <th>Birthrate</th>\n",
              "      <th>Deathrate</th>\n",
              "      <th>Agriculture</th>\n",
              "      <th>Industry</th>\n",
              "      <th>Service</th>\n",
              "    </tr>\n",
              "  </thead>\n",
              "  <tbody>\n",
              "    <tr>\n",
              "      <th>0</th>\n",
              "      <td>0</td>\n",
              "      <td>Afghanistan</td>\n",
              "      <td>ASIA (EX. NEAR EAST)</td>\n",
              "      <td>31056997</td>\n",
              "      <td>647500</td>\n",
              "      <td>48.0</td>\n",
              "      <td>0.00</td>\n",
              "      <td>23.06</td>\n",
              "      <td>163.07</td>\n",
              "      <td>700.0</td>\n",
              "      <td>...</td>\n",
              "      <td>3.2</td>\n",
              "      <td>12.13</td>\n",
              "      <td>0.22</td>\n",
              "      <td>87.65</td>\n",
              "      <td>1.0</td>\n",
              "      <td>46.60</td>\n",
              "      <td>20.34</td>\n",
              "      <td>0.380</td>\n",
              "      <td>0.240</td>\n",
              "      <td>0.380</td>\n",
              "    </tr>\n",
              "    <tr>\n",
              "      <th>1</th>\n",
              "      <td>1</td>\n",
              "      <td>Albania</td>\n",
              "      <td>EASTERN EUROPE</td>\n",
              "      <td>3581655</td>\n",
              "      <td>28748</td>\n",
              "      <td>124.6</td>\n",
              "      <td>1.26</td>\n",
              "      <td>-4.93</td>\n",
              "      <td>21.52</td>\n",
              "      <td>4500.0</td>\n",
              "      <td>...</td>\n",
              "      <td>71.2</td>\n",
              "      <td>21.09</td>\n",
              "      <td>4.42</td>\n",
              "      <td>74.49</td>\n",
              "      <td>3.0</td>\n",
              "      <td>15.11</td>\n",
              "      <td>5.22</td>\n",
              "      <td>0.232</td>\n",
              "      <td>0.188</td>\n",
              "      <td>0.579</td>\n",
              "    </tr>\n",
              "    <tr>\n",
              "      <th>2</th>\n",
              "      <td>2</td>\n",
              "      <td>Algeria</td>\n",
              "      <td>NORTHERN AFRICA</td>\n",
              "      <td>32930091</td>\n",
              "      <td>2381740</td>\n",
              "      <td>13.8</td>\n",
              "      <td>0.04</td>\n",
              "      <td>-0.39</td>\n",
              "      <td>31.00</td>\n",
              "      <td>6000.0</td>\n",
              "      <td>...</td>\n",
              "      <td>78.1</td>\n",
              "      <td>3.22</td>\n",
              "      <td>0.25</td>\n",
              "      <td>96.53</td>\n",
              "      <td>1.0</td>\n",
              "      <td>17.14</td>\n",
              "      <td>4.61</td>\n",
              "      <td>0.101</td>\n",
              "      <td>0.600</td>\n",
              "      <td>0.298</td>\n",
              "    </tr>\n",
              "    <tr>\n",
              "      <th>3</th>\n",
              "      <td>3</td>\n",
              "      <td>American Samoa</td>\n",
              "      <td>OCEANIA</td>\n",
              "      <td>57794</td>\n",
              "      <td>199</td>\n",
              "      <td>290.4</td>\n",
              "      <td>58.29</td>\n",
              "      <td>-20.71</td>\n",
              "      <td>9.27</td>\n",
              "      <td>8000.0</td>\n",
              "      <td>...</td>\n",
              "      <td>259.5</td>\n",
              "      <td>10.00</td>\n",
              "      <td>15.00</td>\n",
              "      <td>75.00</td>\n",
              "      <td>2.0</td>\n",
              "      <td>22.46</td>\n",
              "      <td>3.27</td>\n",
              "      <td>NaN</td>\n",
              "      <td>NaN</td>\n",
              "      <td>NaN</td>\n",
              "    </tr>\n",
              "    <tr>\n",
              "      <th>4</th>\n",
              "      <td>4</td>\n",
              "      <td>Andorra</td>\n",
              "      <td>WESTERN EUROPE</td>\n",
              "      <td>71201</td>\n",
              "      <td>468</td>\n",
              "      <td>152.1</td>\n",
              "      <td>0.00</td>\n",
              "      <td>6.60</td>\n",
              "      <td>4.05</td>\n",
              "      <td>19000.0</td>\n",
              "      <td>...</td>\n",
              "      <td>497.2</td>\n",
              "      <td>2.22</td>\n",
              "      <td>0.00</td>\n",
              "      <td>97.78</td>\n",
              "      <td>3.0</td>\n",
              "      <td>8.71</td>\n",
              "      <td>6.25</td>\n",
              "      <td>NaN</td>\n",
              "      <td>NaN</td>\n",
              "      <td>NaN</td>\n",
              "    </tr>\n",
              "  </tbody>\n",
              "</table>\n",
              "<p>5 rows × 21 columns</p>\n",
              "</div>\n",
              "      <button class=\"colab-df-convert\" onclick=\"convertToInteractive('df-98573a7e-fde1-4ef9-8447-8da9710e022c')\"\n",
              "              title=\"Convert this dataframe to an interactive table.\"\n",
              "              style=\"display:none;\">\n",
              "        \n",
              "  <svg xmlns=\"http://www.w3.org/2000/svg\" height=\"24px\"viewBox=\"0 0 24 24\"\n",
              "       width=\"24px\">\n",
              "    <path d=\"M0 0h24v24H0V0z\" fill=\"none\"/>\n",
              "    <path d=\"M18.56 5.44l.94 2.06.94-2.06 2.06-.94-2.06-.94-.94-2.06-.94 2.06-2.06.94zm-11 1L8.5 8.5l.94-2.06 2.06-.94-2.06-.94L8.5 2.5l-.94 2.06-2.06.94zm10 10l.94 2.06.94-2.06 2.06-.94-2.06-.94-.94-2.06-.94 2.06-2.06.94z\"/><path d=\"M17.41 7.96l-1.37-1.37c-.4-.4-.92-.59-1.43-.59-.52 0-1.04.2-1.43.59L10.3 9.45l-7.72 7.72c-.78.78-.78 2.05 0 2.83L4 21.41c.39.39.9.59 1.41.59.51 0 1.02-.2 1.41-.59l7.78-7.78 2.81-2.81c.8-.78.8-2.07 0-2.86zM5.41 20L4 18.59l7.72-7.72 1.47 1.35L5.41 20z\"/>\n",
              "  </svg>\n",
              "      </button>\n",
              "      \n",
              "  <style>\n",
              "    .colab-df-container {\n",
              "      display:flex;\n",
              "      flex-wrap:wrap;\n",
              "      gap: 12px;\n",
              "    }\n",
              "\n",
              "    .colab-df-convert {\n",
              "      background-color: #E8F0FE;\n",
              "      border: none;\n",
              "      border-radius: 50%;\n",
              "      cursor: pointer;\n",
              "      display: none;\n",
              "      fill: #1967D2;\n",
              "      height: 32px;\n",
              "      padding: 0 0 0 0;\n",
              "      width: 32px;\n",
              "    }\n",
              "\n",
              "    .colab-df-convert:hover {\n",
              "      background-color: #E2EBFA;\n",
              "      box-shadow: 0px 1px 2px rgba(60, 64, 67, 0.3), 0px 1px 3px 1px rgba(60, 64, 67, 0.15);\n",
              "      fill: #174EA6;\n",
              "    }\n",
              "\n",
              "    [theme=dark] .colab-df-convert {\n",
              "      background-color: #3B4455;\n",
              "      fill: #D2E3FC;\n",
              "    }\n",
              "\n",
              "    [theme=dark] .colab-df-convert:hover {\n",
              "      background-color: #434B5C;\n",
              "      box-shadow: 0px 1px 3px 1px rgba(0, 0, 0, 0.15);\n",
              "      filter: drop-shadow(0px 1px 2px rgba(0, 0, 0, 0.3));\n",
              "      fill: #FFFFFF;\n",
              "    }\n",
              "  </style>\n",
              "\n",
              "      <script>\n",
              "        const buttonEl =\n",
              "          document.querySelector('#df-98573a7e-fde1-4ef9-8447-8da9710e022c button.colab-df-convert');\n",
              "        buttonEl.style.display =\n",
              "          google.colab.kernel.accessAllowed ? 'block' : 'none';\n",
              "\n",
              "        async function convertToInteractive(key) {\n",
              "          const element = document.querySelector('#df-98573a7e-fde1-4ef9-8447-8da9710e022c');\n",
              "          const dataTable =\n",
              "            await google.colab.kernel.invokeFunction('convertToInteractive',\n",
              "                                                     [key], {});\n",
              "          if (!dataTable) return;\n",
              "\n",
              "          const docLinkHtml = 'Like what you see? Visit the ' +\n",
              "            '<a target=\"_blank\" href=https://colab.research.google.com/notebooks/data_table.ipynb>data table notebook</a>'\n",
              "            + ' to learn more about interactive tables.';\n",
              "          element.innerHTML = '';\n",
              "          dataTable['output_type'] = 'display_data';\n",
              "          await google.colab.output.renderOutput(dataTable, element);\n",
              "          const docLink = document.createElement('div');\n",
              "          docLink.innerHTML = docLinkHtml;\n",
              "          element.appendChild(docLink);\n",
              "        }\n",
              "      </script>\n",
              "    </div>\n",
              "  </div>\n",
              "  "
            ]
          },
          "metadata": {},
          "execution_count": 6
        }
      ]
    },
    {
      "cell_type": "code",
      "source": [
        "df = df.set_index('Country')"
      ],
      "metadata": {
        "id": "SevhBDbFB7mj"
      },
      "execution_count": null,
      "outputs": []
    },
    {
      "cell_type": "code",
      "source": [
        "df = df.drop('Region', axis=1)"
      ],
      "metadata": {
        "id": "FY9v24_wCDLk"
      },
      "execution_count": null,
      "outputs": []
    },
    {
      "cell_type": "code",
      "source": [
        "df = df.drop('Unnamed: 0', axis=1)"
      ],
      "metadata": {
        "id": "chsYhPyEWoHF"
      },
      "execution_count": null,
      "outputs": []
    },
    {
      "cell_type": "code",
      "source": [
        "df.isna().sum()"
      ],
      "metadata": {
        "colab": {
          "base_uri": "https://localhost:8080/"
        },
        "id": "3MIEvlyhC4OA",
        "outputId": "a01cb5a7-c917-43b7-a29d-3d92bf33a326"
      },
      "execution_count": null,
      "outputs": [
        {
          "output_type": "execute_result",
          "data": {
            "text/plain": [
              "Population                             0\n",
              "Area (sq. mi.)                         0\n",
              "Pop. Density (per sq. mi.)             0\n",
              "Coastline (coast/area ratio)           0\n",
              "Net migration                          3\n",
              "Infant mortality (per 1000 births)     3\n",
              "GDP ($ per capita)                     1\n",
              "Literacy (%)                          18\n",
              "Phones (per 1000)                      4\n",
              "Arable (%)                             2\n",
              "Crops (%)                              2\n",
              "Other (%)                              2\n",
              "Climate                               22\n",
              "Birthrate                              3\n",
              "Deathrate                              4\n",
              "Agriculture                           15\n",
              "Industry                              16\n",
              "Service                               15\n",
              "dtype: int64"
            ]
          },
          "metadata": {},
          "execution_count": 10
        }
      ]
    },
    {
      "cell_type": "code",
      "source": [
        "df = df.fillna(df.mean()).copy()"
      ],
      "metadata": {
        "id": "v5r7qJcsC7CK"
      },
      "execution_count": null,
      "outputs": []
    },
    {
      "cell_type": "code",
      "source": [
        "df"
      ],
      "metadata": {
        "colab": {
          "base_uri": "https://localhost:8080/",
          "height": 623
        },
        "id": "2cbMfUHLYrVr",
        "outputId": "3d395910-49eb-457e-d83f-14ade70a426d"
      },
      "execution_count": null,
      "outputs": [
        {
          "output_type": "execute_result",
          "data": {
            "text/plain": [
              "                 Population  Area (sq. mi.)  Pop. Density (per sq. mi.)  \\\n",
              "Country                                                                   \n",
              "Afghanistan        31056997          647500                        48.0   \n",
              "Albania             3581655           28748                       124.6   \n",
              "Algeria            32930091         2381740                        13.8   \n",
              "American Samoa        57794             199                       290.4   \n",
              "Andorra               71201             468                       152.1   \n",
              "...                     ...             ...                         ...   \n",
              "West Bank           2460492            5860                       419.9   \n",
              "Western Sahara       273008          266000                         1.0   \n",
              "Yemen              21456188          527970                        40.6   \n",
              "Zambia             11502010          752614                        15.3   \n",
              "Zimbabwe           12236805          390580                        31.3   \n",
              "\n",
              "                 Coastline (coast/area ratio)  Net migration  \\\n",
              "Country                                                        \n",
              "Afghanistan                              0.00      23.060000   \n",
              "Albania                                  1.26      -4.930000   \n",
              "Algeria                                  0.04      -0.390000   \n",
              "American Samoa                          58.29     -20.710000   \n",
              "Andorra                                  0.00       6.600000   \n",
              "...                                       ...            ...   \n",
              "West Bank                                0.00       2.980000   \n",
              "Western Sahara                           0.42       0.038125   \n",
              "Yemen                                    0.36       0.000000   \n",
              "Zambia                                   0.00       0.000000   \n",
              "Zimbabwe                                 0.00       0.000000   \n",
              "\n",
              "                 Infant mortality (per 1000 births)  GDP ($ per capita)  \\\n",
              "Country                                                                   \n",
              "Afghanistan                              163.070000          700.000000   \n",
              "Albania                                   21.520000         4500.000000   \n",
              "Algeria                                   31.000000         6000.000000   \n",
              "American Samoa                             9.270000         8000.000000   \n",
              "Andorra                                    4.050000        19000.000000   \n",
              "...                                             ...                 ...   \n",
              "West Bank                                 19.620000          800.000000   \n",
              "Western Sahara                            35.506964         9689.823009   \n",
              "Yemen                                     61.500000          800.000000   \n",
              "Zambia                                    88.290000          800.000000   \n",
              "Zimbabwe                                  67.690000         1900.000000   \n",
              "\n",
              "                 Literacy (%)  Phones (per 1000)  Arable (%)  Crops (%)  \\\n",
              "Country                                                                   \n",
              "Afghanistan         36.000000           3.200000       12.13       0.22   \n",
              "Albania             86.500000          71.200000       21.09       4.42   \n",
              "Algeria             70.000000          78.100000        3.22       0.25   \n",
              "American Samoa      97.000000         259.500000       10.00      15.00   \n",
              "Andorra            100.000000         497.200000        2.22       0.00   \n",
              "...                       ...                ...         ...        ...   \n",
              "West Bank           82.838278         145.200000       16.90      18.97   \n",
              "Western Sahara      82.838278         236.061435        0.02       0.00   \n",
              "Yemen               50.200000          37.200000        2.78       0.24   \n",
              "Zambia              80.600000           8.200000        7.08       0.03   \n",
              "Zimbabwe            90.700000          26.800000        8.32       0.34   \n",
              "\n",
              "                 Other (%)  Climate  Birthrate  Deathrate  Agriculture  \\\n",
              "Country                                                                  \n",
              "Afghanistan          87.65      1.0  46.600000  20.340000     0.380000   \n",
              "Albania              74.49      3.0  15.110000   5.220000     0.232000   \n",
              "Algeria              96.53      1.0  17.140000   4.610000     0.101000   \n",
              "American Samoa       75.00      2.0  22.460000   3.270000     0.150844   \n",
              "Andorra              97.78      3.0   8.710000   6.250000     0.150844   \n",
              "...                    ...      ...        ...        ...          ...   \n",
              "West Bank            64.13      3.0  31.670000   3.920000     0.090000   \n",
              "Western Sahara       99.98      1.0  22.114732   9.241345     0.150844   \n",
              "Yemen                96.98      1.0  42.890000   8.300000     0.135000   \n",
              "Zambia               92.90      2.0  41.000000  19.930000     0.220000   \n",
              "Zimbabwe             91.34      2.0  28.010000  21.840000     0.179000   \n",
              "\n",
              "                 Industry   Service  \n",
              "Country                              \n",
              "Afghanistan      0.240000  0.380000  \n",
              "Albania          0.188000  0.579000  \n",
              "Algeria          0.600000  0.298000  \n",
              "American Samoa   0.282711  0.565283  \n",
              "Andorra          0.282711  0.565283  \n",
              "...                   ...       ...  \n",
              "West Bank        0.280000  0.630000  \n",
              "Western Sahara   0.282711  0.400000  \n",
              "Yemen            0.472000  0.393000  \n",
              "Zambia           0.290000  0.489000  \n",
              "Zimbabwe         0.243000  0.579000  \n",
              "\n",
              "[227 rows x 18 columns]"
            ],
            "text/html": [
              "\n",
              "  <div id=\"df-b8db636d-1ca1-44fe-93c5-d8435c448f59\">\n",
              "    <div class=\"colab-df-container\">\n",
              "      <div>\n",
              "<style scoped>\n",
              "    .dataframe tbody tr th:only-of-type {\n",
              "        vertical-align: middle;\n",
              "    }\n",
              "\n",
              "    .dataframe tbody tr th {\n",
              "        vertical-align: top;\n",
              "    }\n",
              "\n",
              "    .dataframe thead th {\n",
              "        text-align: right;\n",
              "    }\n",
              "</style>\n",
              "<table border=\"1\" class=\"dataframe\">\n",
              "  <thead>\n",
              "    <tr style=\"text-align: right;\">\n",
              "      <th></th>\n",
              "      <th>Population</th>\n",
              "      <th>Area (sq. mi.)</th>\n",
              "      <th>Pop. Density (per sq. mi.)</th>\n",
              "      <th>Coastline (coast/area ratio)</th>\n",
              "      <th>Net migration</th>\n",
              "      <th>Infant mortality (per 1000 births)</th>\n",
              "      <th>GDP ($ per capita)</th>\n",
              "      <th>Literacy (%)</th>\n",
              "      <th>Phones (per 1000)</th>\n",
              "      <th>Arable (%)</th>\n",
              "      <th>Crops (%)</th>\n",
              "      <th>Other (%)</th>\n",
              "      <th>Climate</th>\n",
              "      <th>Birthrate</th>\n",
              "      <th>Deathrate</th>\n",
              "      <th>Agriculture</th>\n",
              "      <th>Industry</th>\n",
              "      <th>Service</th>\n",
              "    </tr>\n",
              "    <tr>\n",
              "      <th>Country</th>\n",
              "      <th></th>\n",
              "      <th></th>\n",
              "      <th></th>\n",
              "      <th></th>\n",
              "      <th></th>\n",
              "      <th></th>\n",
              "      <th></th>\n",
              "      <th></th>\n",
              "      <th></th>\n",
              "      <th></th>\n",
              "      <th></th>\n",
              "      <th></th>\n",
              "      <th></th>\n",
              "      <th></th>\n",
              "      <th></th>\n",
              "      <th></th>\n",
              "      <th></th>\n",
              "      <th></th>\n",
              "    </tr>\n",
              "  </thead>\n",
              "  <tbody>\n",
              "    <tr>\n",
              "      <th>Afghanistan</th>\n",
              "      <td>31056997</td>\n",
              "      <td>647500</td>\n",
              "      <td>48.0</td>\n",
              "      <td>0.00</td>\n",
              "      <td>23.060000</td>\n",
              "      <td>163.070000</td>\n",
              "      <td>700.000000</td>\n",
              "      <td>36.000000</td>\n",
              "      <td>3.200000</td>\n",
              "      <td>12.13</td>\n",
              "      <td>0.22</td>\n",
              "      <td>87.65</td>\n",
              "      <td>1.0</td>\n",
              "      <td>46.600000</td>\n",
              "      <td>20.340000</td>\n",
              "      <td>0.380000</td>\n",
              "      <td>0.240000</td>\n",
              "      <td>0.380000</td>\n",
              "    </tr>\n",
              "    <tr>\n",
              "      <th>Albania</th>\n",
              "      <td>3581655</td>\n",
              "      <td>28748</td>\n",
              "      <td>124.6</td>\n",
              "      <td>1.26</td>\n",
              "      <td>-4.930000</td>\n",
              "      <td>21.520000</td>\n",
              "      <td>4500.000000</td>\n",
              "      <td>86.500000</td>\n",
              "      <td>71.200000</td>\n",
              "      <td>21.09</td>\n",
              "      <td>4.42</td>\n",
              "      <td>74.49</td>\n",
              "      <td>3.0</td>\n",
              "      <td>15.110000</td>\n",
              "      <td>5.220000</td>\n",
              "      <td>0.232000</td>\n",
              "      <td>0.188000</td>\n",
              "      <td>0.579000</td>\n",
              "    </tr>\n",
              "    <tr>\n",
              "      <th>Algeria</th>\n",
              "      <td>32930091</td>\n",
              "      <td>2381740</td>\n",
              "      <td>13.8</td>\n",
              "      <td>0.04</td>\n",
              "      <td>-0.390000</td>\n",
              "      <td>31.000000</td>\n",
              "      <td>6000.000000</td>\n",
              "      <td>70.000000</td>\n",
              "      <td>78.100000</td>\n",
              "      <td>3.22</td>\n",
              "      <td>0.25</td>\n",
              "      <td>96.53</td>\n",
              "      <td>1.0</td>\n",
              "      <td>17.140000</td>\n",
              "      <td>4.610000</td>\n",
              "      <td>0.101000</td>\n",
              "      <td>0.600000</td>\n",
              "      <td>0.298000</td>\n",
              "    </tr>\n",
              "    <tr>\n",
              "      <th>American Samoa</th>\n",
              "      <td>57794</td>\n",
              "      <td>199</td>\n",
              "      <td>290.4</td>\n",
              "      <td>58.29</td>\n",
              "      <td>-20.710000</td>\n",
              "      <td>9.270000</td>\n",
              "      <td>8000.000000</td>\n",
              "      <td>97.000000</td>\n",
              "      <td>259.500000</td>\n",
              "      <td>10.00</td>\n",
              "      <td>15.00</td>\n",
              "      <td>75.00</td>\n",
              "      <td>2.0</td>\n",
              "      <td>22.460000</td>\n",
              "      <td>3.270000</td>\n",
              "      <td>0.150844</td>\n",
              "      <td>0.282711</td>\n",
              "      <td>0.565283</td>\n",
              "    </tr>\n",
              "    <tr>\n",
              "      <th>Andorra</th>\n",
              "      <td>71201</td>\n",
              "      <td>468</td>\n",
              "      <td>152.1</td>\n",
              "      <td>0.00</td>\n",
              "      <td>6.600000</td>\n",
              "      <td>4.050000</td>\n",
              "      <td>19000.000000</td>\n",
              "      <td>100.000000</td>\n",
              "      <td>497.200000</td>\n",
              "      <td>2.22</td>\n",
              "      <td>0.00</td>\n",
              "      <td>97.78</td>\n",
              "      <td>3.0</td>\n",
              "      <td>8.710000</td>\n",
              "      <td>6.250000</td>\n",
              "      <td>0.150844</td>\n",
              "      <td>0.282711</td>\n",
              "      <td>0.565283</td>\n",
              "    </tr>\n",
              "    <tr>\n",
              "      <th>...</th>\n",
              "      <td>...</td>\n",
              "      <td>...</td>\n",
              "      <td>...</td>\n",
              "      <td>...</td>\n",
              "      <td>...</td>\n",
              "      <td>...</td>\n",
              "      <td>...</td>\n",
              "      <td>...</td>\n",
              "      <td>...</td>\n",
              "      <td>...</td>\n",
              "      <td>...</td>\n",
              "      <td>...</td>\n",
              "      <td>...</td>\n",
              "      <td>...</td>\n",
              "      <td>...</td>\n",
              "      <td>...</td>\n",
              "      <td>...</td>\n",
              "      <td>...</td>\n",
              "    </tr>\n",
              "    <tr>\n",
              "      <th>West Bank</th>\n",
              "      <td>2460492</td>\n",
              "      <td>5860</td>\n",
              "      <td>419.9</td>\n",
              "      <td>0.00</td>\n",
              "      <td>2.980000</td>\n",
              "      <td>19.620000</td>\n",
              "      <td>800.000000</td>\n",
              "      <td>82.838278</td>\n",
              "      <td>145.200000</td>\n",
              "      <td>16.90</td>\n",
              "      <td>18.97</td>\n",
              "      <td>64.13</td>\n",
              "      <td>3.0</td>\n",
              "      <td>31.670000</td>\n",
              "      <td>3.920000</td>\n",
              "      <td>0.090000</td>\n",
              "      <td>0.280000</td>\n",
              "      <td>0.630000</td>\n",
              "    </tr>\n",
              "    <tr>\n",
              "      <th>Western Sahara</th>\n",
              "      <td>273008</td>\n",
              "      <td>266000</td>\n",
              "      <td>1.0</td>\n",
              "      <td>0.42</td>\n",
              "      <td>0.038125</td>\n",
              "      <td>35.506964</td>\n",
              "      <td>9689.823009</td>\n",
              "      <td>82.838278</td>\n",
              "      <td>236.061435</td>\n",
              "      <td>0.02</td>\n",
              "      <td>0.00</td>\n",
              "      <td>99.98</td>\n",
              "      <td>1.0</td>\n",
              "      <td>22.114732</td>\n",
              "      <td>9.241345</td>\n",
              "      <td>0.150844</td>\n",
              "      <td>0.282711</td>\n",
              "      <td>0.400000</td>\n",
              "    </tr>\n",
              "    <tr>\n",
              "      <th>Yemen</th>\n",
              "      <td>21456188</td>\n",
              "      <td>527970</td>\n",
              "      <td>40.6</td>\n",
              "      <td>0.36</td>\n",
              "      <td>0.000000</td>\n",
              "      <td>61.500000</td>\n",
              "      <td>800.000000</td>\n",
              "      <td>50.200000</td>\n",
              "      <td>37.200000</td>\n",
              "      <td>2.78</td>\n",
              "      <td>0.24</td>\n",
              "      <td>96.98</td>\n",
              "      <td>1.0</td>\n",
              "      <td>42.890000</td>\n",
              "      <td>8.300000</td>\n",
              "      <td>0.135000</td>\n",
              "      <td>0.472000</td>\n",
              "      <td>0.393000</td>\n",
              "    </tr>\n",
              "    <tr>\n",
              "      <th>Zambia</th>\n",
              "      <td>11502010</td>\n",
              "      <td>752614</td>\n",
              "      <td>15.3</td>\n",
              "      <td>0.00</td>\n",
              "      <td>0.000000</td>\n",
              "      <td>88.290000</td>\n",
              "      <td>800.000000</td>\n",
              "      <td>80.600000</td>\n",
              "      <td>8.200000</td>\n",
              "      <td>7.08</td>\n",
              "      <td>0.03</td>\n",
              "      <td>92.90</td>\n",
              "      <td>2.0</td>\n",
              "      <td>41.000000</td>\n",
              "      <td>19.930000</td>\n",
              "      <td>0.220000</td>\n",
              "      <td>0.290000</td>\n",
              "      <td>0.489000</td>\n",
              "    </tr>\n",
              "    <tr>\n",
              "      <th>Zimbabwe</th>\n",
              "      <td>12236805</td>\n",
              "      <td>390580</td>\n",
              "      <td>31.3</td>\n",
              "      <td>0.00</td>\n",
              "      <td>0.000000</td>\n",
              "      <td>67.690000</td>\n",
              "      <td>1900.000000</td>\n",
              "      <td>90.700000</td>\n",
              "      <td>26.800000</td>\n",
              "      <td>8.32</td>\n",
              "      <td>0.34</td>\n",
              "      <td>91.34</td>\n",
              "      <td>2.0</td>\n",
              "      <td>28.010000</td>\n",
              "      <td>21.840000</td>\n",
              "      <td>0.179000</td>\n",
              "      <td>0.243000</td>\n",
              "      <td>0.579000</td>\n",
              "    </tr>\n",
              "  </tbody>\n",
              "</table>\n",
              "<p>227 rows × 18 columns</p>\n",
              "</div>\n",
              "      <button class=\"colab-df-convert\" onclick=\"convertToInteractive('df-b8db636d-1ca1-44fe-93c5-d8435c448f59')\"\n",
              "              title=\"Convert this dataframe to an interactive table.\"\n",
              "              style=\"display:none;\">\n",
              "        \n",
              "  <svg xmlns=\"http://www.w3.org/2000/svg\" height=\"24px\"viewBox=\"0 0 24 24\"\n",
              "       width=\"24px\">\n",
              "    <path d=\"M0 0h24v24H0V0z\" fill=\"none\"/>\n",
              "    <path d=\"M18.56 5.44l.94 2.06.94-2.06 2.06-.94-2.06-.94-.94-2.06-.94 2.06-2.06.94zm-11 1L8.5 8.5l.94-2.06 2.06-.94-2.06-.94L8.5 2.5l-.94 2.06-2.06.94zm10 10l.94 2.06.94-2.06 2.06-.94-2.06-.94-.94-2.06-.94 2.06-2.06.94z\"/><path d=\"M17.41 7.96l-1.37-1.37c-.4-.4-.92-.59-1.43-.59-.52 0-1.04.2-1.43.59L10.3 9.45l-7.72 7.72c-.78.78-.78 2.05 0 2.83L4 21.41c.39.39.9.59 1.41.59.51 0 1.02-.2 1.41-.59l7.78-7.78 2.81-2.81c.8-.78.8-2.07 0-2.86zM5.41 20L4 18.59l7.72-7.72 1.47 1.35L5.41 20z\"/>\n",
              "  </svg>\n",
              "      </button>\n",
              "      \n",
              "  <style>\n",
              "    .colab-df-container {\n",
              "      display:flex;\n",
              "      flex-wrap:wrap;\n",
              "      gap: 12px;\n",
              "    }\n",
              "\n",
              "    .colab-df-convert {\n",
              "      background-color: #E8F0FE;\n",
              "      border: none;\n",
              "      border-radius: 50%;\n",
              "      cursor: pointer;\n",
              "      display: none;\n",
              "      fill: #1967D2;\n",
              "      height: 32px;\n",
              "      padding: 0 0 0 0;\n",
              "      width: 32px;\n",
              "    }\n",
              "\n",
              "    .colab-df-convert:hover {\n",
              "      background-color: #E2EBFA;\n",
              "      box-shadow: 0px 1px 2px rgba(60, 64, 67, 0.3), 0px 1px 3px 1px rgba(60, 64, 67, 0.15);\n",
              "      fill: #174EA6;\n",
              "    }\n",
              "\n",
              "    [theme=dark] .colab-df-convert {\n",
              "      background-color: #3B4455;\n",
              "      fill: #D2E3FC;\n",
              "    }\n",
              "\n",
              "    [theme=dark] .colab-df-convert:hover {\n",
              "      background-color: #434B5C;\n",
              "      box-shadow: 0px 1px 3px 1px rgba(0, 0, 0, 0.15);\n",
              "      filter: drop-shadow(0px 1px 2px rgba(0, 0, 0, 0.3));\n",
              "      fill: #FFFFFF;\n",
              "    }\n",
              "  </style>\n",
              "\n",
              "      <script>\n",
              "        const buttonEl =\n",
              "          document.querySelector('#df-b8db636d-1ca1-44fe-93c5-d8435c448f59 button.colab-df-convert');\n",
              "        buttonEl.style.display =\n",
              "          google.colab.kernel.accessAllowed ? 'block' : 'none';\n",
              "\n",
              "        async function convertToInteractive(key) {\n",
              "          const element = document.querySelector('#df-b8db636d-1ca1-44fe-93c5-d8435c448f59');\n",
              "          const dataTable =\n",
              "            await google.colab.kernel.invokeFunction('convertToInteractive',\n",
              "                                                     [key], {});\n",
              "          if (!dataTable) return;\n",
              "\n",
              "          const docLinkHtml = 'Like what you see? Visit the ' +\n",
              "            '<a target=\"_blank\" href=https://colab.research.google.com/notebooks/data_table.ipynb>data table notebook</a>'\n",
              "            + ' to learn more about interactive tables.';\n",
              "          element.innerHTML = '';\n",
              "          dataTable['output_type'] = 'display_data';\n",
              "          await google.colab.output.renderOutput(dataTable, element);\n",
              "          const docLink = document.createElement('div');\n",
              "          docLink.innerHTML = docLinkHtml;\n",
              "          element.appendChild(docLink);\n",
              "        }\n",
              "      </script>\n",
              "    </div>\n",
              "  </div>\n",
              "  "
            ]
          },
          "metadata": {},
          "execution_count": 12
        }
      ]
    },
    {
      "cell_type": "markdown",
      "source": [
        "# HIERARCHICAL CLUSTERING"
      ],
      "metadata": {
        "id": "yEWo73TGrjVY"
      }
    },
    {
      "cell_type": "code",
      "source": [
        "X = df.copy()"
      ],
      "metadata": {
        "id": "kQ0HATheCP42"
      },
      "execution_count": null,
      "outputs": []
    },
    {
      "cell_type": "code",
      "source": [
        "from sklearn.preprocessing import StandardScaler\n",
        "scaler = StandardScaler()\n",
        "X_scaled = scaler.fit_transform(X)"
      ],
      "metadata": {
        "id": "Aqnf33eHHWdS"
      },
      "execution_count": null,
      "outputs": []
    },
    {
      "cell_type": "markdown",
      "metadata": {
        "id": "fAVHjNAAdJDg"
      },
      "source": [
        "## DENDROGRAM"
      ]
    },
    {
      "cell_type": "code",
      "source": [
        "import scipy.cluster.hierarchy as sch\n",
        "\n",
        "plt.figure(figsize=(15,10))\n",
        "plt.title('Dendrogram')\n",
        "plt.ylabel('Euclidean distances')                                                      #dendrogram seems to recognize two main groups of countries, based on this dataset\n",
        "plt.grid(False)\n",
        "dendrogram = sch.dendrogram(sch.linkage(X_scaled, method = 'ward'), labels=X.index, p=5, truncate_mode='level', show_contracted=True)\n",
        "plt.xticks(rotation=90, fontsize=14)\n",
        "plt.show()"
      ],
      "metadata": {
        "colab": {
          "base_uri": "https://localhost:8080/",
          "height": 739
        },
        "id": "oqwigUivyLfK",
        "outputId": "8a16d629-55cc-494e-aea9-5435ef66b66a"
      },
      "execution_count": null,
      "outputs": [
        {
          "output_type": "display_data",
          "data": {
            "text/plain": [
              "<Figure size 1080x720 with 1 Axes>"
            ],
            "image/png": "[encoded data removed]"
          },
          "metadata": {
            "needs_background": "light"
          }
        }
      ]
    },
    {
      "cell_type": "markdown",
      "source": [
        "## AGGLOMERATIVE CLUSTERING"
      ],
      "metadata": {
        "id": "-NPa6_2GM7KT"
      }
    },
    {
      "cell_type": "code",
      "source": [
        "from sklearn.cluster import AgglomerativeClustering\n",
        "\n",
        "model = AgglomerativeClustering(n_clusters=2, affinity='euclidean', linkage='ward')  \n",
        "model = model.fit(X_scaled)\n",
        "labels = model.labels_"
      ],
      "metadata": {
        "id": "K37_mE6145ag"
      },
      "execution_count": null,
      "outputs": []
    },
    {
      "cell_type": "code",
      "source": [
        "labels = pd.Series(labels, index = X.index, name='labels')\n",
        "X_scaled = pd.DataFrame(X_scaled, index=X.index, columns=X.columns)"
      ],
      "metadata": {
        "id": "MN2DBFsGEQPl"
      },
      "execution_count": null,
      "outputs": []
    },
    {
      "cell_type": "code",
      "source": [
        "labels_df = X_scaled.join(labels)\n",
        "sns.scatterplot(x='Birthrate', y='Phones (per 1000)', data=labels_df, hue='labels')\n",
        "plt.show()"
      ],
      "metadata": {
        "colab": {
          "base_uri": "https://localhost:8080/",
          "height": 279
        },
        "id": "o8k4HTncGSIt",
        "outputId": "4c5ec0c3-e08f-4f23-cffc-63c9f914f445"
      },
      "execution_count": null,
      "outputs": [
        {
          "output_type": "display_data",
          "data": {
            "text/plain": [
              "<Figure size 432x288 with 1 Axes>"
            ],
            "image/png": "[encoded data removed]"
          },
          "metadata": {
            "needs_background": "light"
          }
        }
      ]
    },
    {
      "cell_type": "code",
      "source": [
        "labels_df = X_scaled.join(labels)\n",
        "sns.scatterplot(x='GDP ($ per capita)', y='Infant mortality (per 1000 births)', data=labels_df, hue='labels')\n",
        "plt.show()"
      ],
      "metadata": {
        "colab": {
          "base_uri": "https://localhost:8080/",
          "height": 279
        },
        "id": "L7Fhpo-_H3Bx",
        "outputId": "9b22bbea-4abb-42b4-d31c-859c044f90b5"
      },
      "execution_count": null,
      "outputs": [
        {
          "output_type": "display_data",
          "data": {
            "text/plain": [
              "<Figure size 432x288 with 1 Axes>"
            ],
            "image/png": "[encoded data removed]"
          },
          "metadata": {
            "needs_background": "light"
          }
        }
      ]
    },
    {
      "cell_type": "code",
      "source": [
        "labels_df = X_scaled.join(labels)\n",
        "sns.scatterplot(x='Coastline (coast/area ratio)', y='Agriculture', data=labels_df, hue='labels')\n",
        "plt.show()"
      ],
      "metadata": {
        "colab": {
          "base_uri": "https://localhost:8080/",
          "height": 279
        },
        "id": "M7pNFTqRMF7N",
        "outputId": "505d4364-d26d-4a46-c811-9ba77c99dab6"
      },
      "execution_count": null,
      "outputs": [
        {
          "output_type": "display_data",
          "data": {
            "text/plain": [
              "<Figure size 432x288 with 1 Axes>"
            ],
            "image/png": "[encoded data removed]"
          },
          "metadata": {
            "needs_background": "light"
          }
        }
      ]
    },
    {
      "cell_type": "code",
      "source": [
        "print(labels_df[labels_df['labels']==0].index)"
      ],
      "metadata": {
        "colab": {
          "base_uri": "https://localhost:8080/"
        },
        "id": "ymnsMS2kODN6",
        "outputId": "688f9ab0-011e-4ed1-c042-56f313f66ea0"
      },
      "execution_count": null,
      "outputs": [
        {
          "output_type": "stream",
          "name": "stdout",
          "text": [
            "Index(['Albania ', 'Algeria ', 'American Samoa ', 'Andorra ', 'Anguilla ',\n",
            "       'Antigua & Barbuda ', 'Argentina ', 'Armenia ', 'Aruba ', 'Australia ',\n",
            "       ...\n",
            "       'United Arab Emirates ', 'United Kingdom ', 'United States ',\n",
            "       'Uruguay ', 'Venezuela ', 'Vietnam ', 'Virgin Islands ',\n",
            "       'Wallis and Futuna ', 'West Bank ', 'Western Sahara '],\n",
            "      dtype='object', name='Country', length=160)\n"
          ]
        }
      ]
    },
    {
      "cell_type": "code",
      "source": [
        "print(labels_df[labels_df['labels']==1].index)"
      ],
      "metadata": {
        "colab": {
          "base_uri": "https://localhost:8080/"
        },
        "id": "gTIRPzYyOIEG",
        "outputId": "19e9f331-fa3a-4562-e012-913122ff4b33"
      },
      "execution_count": null,
      "outputs": [
        {
          "output_type": "stream",
          "name": "stdout",
          "text": [
            "Index(['Afghanistan ', 'Angola ', 'Azerbaijan ', 'Bangladesh ', 'Benin ',\n",
            "       'Bhutan ', 'Botswana ', 'Burkina Faso ', 'Burma ', 'Burundi ',\n",
            "       'Cambodia ', 'Cameroon ', 'Central African Rep. ', 'Chad ', 'Comoros ',\n",
            "       'Congo, Dem. Rep. ', 'Congo, Repub. of the ', 'Cote d'Ivoire ',\n",
            "       'Djibouti ', 'East Timor ', 'Equatorial Guinea ', 'Eritrea ',\n",
            "       'Ethiopia ', 'Gabon ', 'Gambia, The ', 'Ghana ', 'Guatemala ',\n",
            "       'Guinea ', 'Guinea-Bissau ', 'Haiti ', 'Honduras ', 'Kenya ', 'Laos ',\n",
            "       'Lesotho ', 'Liberia ', 'Madagascar ', 'Malawi ', 'Mali ',\n",
            "       'Mauritania ', 'Mayotte ', 'Morocco ', 'Mozambique ', 'Namibia ',\n",
            "       'Nepal ', 'Nicaragua ', 'Niger ', 'Nigeria ', 'Pakistan ',\n",
            "       'Papua New Guinea ', 'Rwanda ', 'Senegal ', 'Sierra Leone ', 'Somalia ',\n",
            "       'South Africa ', 'Sudan ', 'Swaziland ', 'Syria ', 'Tajikistan ',\n",
            "       'Tanzania ', 'Togo ', 'Turkmenistan ', 'Uganda ', 'Uzbekistan ',\n",
            "       'Vanuatu ', 'Yemen ', 'Zambia ', 'Zimbabwe '],\n",
            "      dtype='object', name='Country')\n"
          ]
        }
      ]
    },
    {
      "cell_type": "code",
      "source": [
        "cond = labels_df['labels']==0\n",
        "new_df = labels_df[cond]"
      ],
      "metadata": {
        "id": "bR_yiiiZdCP5"
      },
      "execution_count": null,
      "outputs": []
    },
    {
      "cell_type": "code",
      "source": [
        "new_df"
      ],
      "metadata": {
        "colab": {
          "base_uri": "https://localhost:8080/",
          "height": 761
        },
        "id": "n00Wvn1CdTVI",
        "outputId": "e925b484-2208-4691-d2db-e9844254bfa6"
      },
      "execution_count": null,
      "outputs": [
        {
          "output_type": "execute_result",
          "data": {
            "text/plain": [
              "                    Population  Area (sq. mi.)  Pop. Density (per sq. mi.)  \\\n",
              "Country                                                                      \n",
              "Albania              -0.213877       -0.318797                   -0.153603   \n",
              "Algeria               0.035618        0.998421                   -0.220490   \n",
              "American Samoa       -0.243834       -0.334779                   -0.053514   \n",
              "Andorra              -0.243720       -0.334629                   -0.137002   \n",
              "Anguilla             -0.244210       -0.334834                   -0.149075   \n",
              "...                        ...             ...                         ...   \n",
              "Vietnam               0.473196       -0.150401                   -0.074220   \n",
              "Virgin Islands       -0.243402       -0.333822                   -0.194472   \n",
              "Wallis and Futuna    -0.244189       -0.334737                   -0.193506   \n",
              "West Bank            -0.223408       -0.331610                    0.024662   \n",
              "Western Sahara       -0.242004       -0.185982                   -0.228217   \n",
              "\n",
              "                    Coastline (coast/area ratio)  Net migration  \\\n",
              "Country                                                           \n",
              "Albania                                -0.275974  -1.025201e+00   \n",
              "Algeria                                -0.292889  -8.834605e-02   \n",
              "American Samoa                          0.514709  -4.281495e+00   \n",
              "Andorra                                -0.293443   1.354081e+00   \n",
              "Anguilla                                0.535644   2.212520e+00   \n",
              "...                                          ...            ...   \n",
              "Vietnam                                -0.278886  -1.007274e-01   \n",
              "Virgin Islands                         -0.157018  -1.852688e+00   \n",
              "Wallis and Futuna                       0.359290  -4.295642e-18   \n",
              "West Bank                              -0.293443   6.070728e-01   \n",
              "Western Sahara                         -0.287620  -4.295642e-18   \n",
              "\n",
              "                    Infant mortality (per 1000 births)  GDP ($ per capita)  \\\n",
              "Country                                                                      \n",
              "Albania                                  -3.987536e-01       -5.187348e-01   \n",
              "Algeria                                  -1.284888e-01       -3.688063e-01   \n",
              "American Samoa                           -7.479882e-01       -1.689017e-01   \n",
              "Andorra                                  -8.968049e-01        9.305737e-01   \n",
              "Anguilla                                 -4.127230e-01       -1.089303e-01   \n",
              "...                                                ...                 ...   \n",
              "Vietnam                                  -2.724590e-01       -7.186394e-01   \n",
              "Virgin Islands                           -7.833393e-01        7.506595e-01   \n",
              "Wallis and Futuna                        -4.051365e-16       -5.986966e-01   \n",
              "West Bank                                -4.529206e-01       -8.885583e-01   \n",
              "Western Sahara                           -4.051365e-16        1.818122e-16   \n",
              "\n",
              "                    Literacy (%)  Phones (per 1000)  Arable (%)  Crops (%)  \\\n",
              "Country                                                                      \n",
              "Albania             1.939599e-01      -7.312001e-01    0.562986  -0.017364   \n",
              "Algeria            -6.800381e-01      -7.005969e-01   -0.816517  -0.519408   \n",
              "American Samoa      7.501404e-01       1.039557e-01   -0.293124   1.256409   \n",
              "Andorra             9.090492e-01       1.158212e+00   -0.893713  -0.549507   \n",
              "Anguilla            6.442013e-01       9.932214e-01   -1.065089  -0.549507   \n",
              "...                          ...                ...         ...        ...   \n",
              "Vietnam             3.952443e-01      -2.144946e-01    0.476526   0.166840   \n",
              "Virgin Islands     -7.527430e-16       1.848336e+00   -0.157258  -0.195547   \n",
              "Wallis and Futuna  -1.739430e+00      -5.209697e-01   -0.679107   2.460353   \n",
              "West Bank          -7.527430e-16      -4.029923e-01    0.239532   1.734375   \n",
              "Western Sahara     -7.527430e-16       3.781713e-16   -1.063546  -0.549507   \n",
              "\n",
              "                    Other (%)   Climate  Birthrate     Deathrate  \\\n",
              "Country                                                            \n",
              "Albania             -0.445827  1.298569  -0.632321 -8.149012e-01   \n",
              "Algeria              0.928767 -1.717937  -0.449072 -9.385141e-01   \n",
              "American Samoa      -0.414019 -0.209684   0.031168 -1.210057e+00   \n",
              "Andorra              1.006727  1.298569  -1.210053 -6.061780e-01   \n",
              "Anguilla             1.145185 -0.209684  -0.717176 -7.905840e-01   \n",
              "...                       ...       ...        ...           ...   \n",
              "Vietnam             -0.471398 -0.209684  -0.474348 -6.122573e-01   \n",
              "Virgin Islands       0.228373 -0.209684  -0.736133 -5.697021e-01   \n",
              "Wallis and Futuna   -0.725860 -0.209684   0.000000  7.199359e-16   \n",
              "West Bank           -1.091961  1.298569   0.862560 -1.078338e+00   \n",
              "Western Sahara       1.143937 -1.717937   0.000000  7.199359e-16   \n",
              "\n",
              "                     Agriculture      Industry   Service  labels  \n",
              "Country                                                           \n",
              "Albania             5.734169e-01 -7.121448e-01  0.085790       0  \n",
              "Algeria            -3.521823e-01  2.385742e+00 -1.671672       0  \n",
              "American Samoa      1.961110e-16  4.173963e-16  0.000000       0  \n",
              "Andorra             1.961110e-16  4.173963e-16  0.000000       0  \n",
              "Anguilla           -7.831865e-01 -7.722980e-01  1.342908       0  \n",
              "...                          ...           ...       ...     ...  \n",
              "Vietnam             4.109071e-01  9.571050e-01 -1.152564       0  \n",
              "Virgin Islands     -9.951558e-01 -6.971065e-01  1.467994       0  \n",
              "Wallis and Futuna   1.961110e-16  4.173963e-16  0.000000       0  \n",
              "West Bank          -4.299044e-01 -2.038365e-02  0.404760       0  \n",
              "Western Sahara      1.961110e-16  4.173963e-16 -1.033732       0  \n",
              "\n",
              "[160 rows x 19 columns]"
            ],
            "text/html": [
              "\n",
              "  <div id=\"df-4c0e3713-e570-4d46-aca1-3ec2851e586e\">\n",
              "    <div class=\"colab-df-container\">\n",
              "      <div>\n",
              "<style scoped>\n",
              "    .dataframe tbody tr th:only-of-type {\n",
              "        vertical-align: middle;\n",
              "    }\n",
              "\n",
              "    .dataframe tbody tr th {\n",
              "        vertical-align: top;\n",
              "    }\n",
              "\n",
              "    .dataframe thead th {\n",
              "        text-align: right;\n",
              "    }\n",
              "</style>\n",
              "<table border=\"1\" class=\"dataframe\">\n",
              "  <thead>\n",
              "    <tr style=\"text-align: right;\">\n",
              "      <th></th>\n",
              "      <th>Population</th>\n",
              "      <th>Area (sq. mi.)</th>\n",
              "      <th>Pop. Density (per sq. mi.)</th>\n",
              "      <th>Coastline (coast/area ratio)</th>\n",
              "      <th>Net migration</th>\n",
              "      <th>Infant mortality (per 1000 births)</th>\n",
              "      <th>GDP ($ per capita)</th>\n",
              "      <th>Literacy (%)</th>\n",
              "      <th>Phones (per 1000)</th>\n",
              "      <th>Arable (%)</th>\n",
              "      <th>Crops (%)</th>\n",
              "      <th>Other (%)</th>\n",
              "      <th>Climate</th>\n",
              "      <th>Birthrate</th>\n",
              "      <th>Deathrate</th>\n",
              "      <th>Agriculture</th>\n",
              "      <th>Industry</th>\n",
              "      <th>Service</th>\n",
              "      <th>labels</th>\n",
              "    </tr>\n",
              "    <tr>\n",
              "      <th>Country</th>\n",
              "      <th></th>\n",
              "      <th></th>\n",
              "      <th></th>\n",
              "      <th></th>\n",
              "      <th></th>\n",
              "      <th></th>\n",
              "      <th></th>\n",
              "      <th></th>\n",
              "      <th></th>\n",
              "      <th></th>\n",
              "      <th></th>\n",
              "      <th></th>\n",
              "      <th></th>\n",
              "      <th></th>\n",
              "      <th></th>\n",
              "      <th></th>\n",
              "      <th></th>\n",
              "      <th></th>\n",
              "      <th></th>\n",
              "    </tr>\n",
              "  </thead>\n",
              "  <tbody>\n",
              "    <tr>\n",
              "      <th>Albania</th>\n",
              "      <td>-0.213877</td>\n",
              "      <td>-0.318797</td>\n",
              "      <td>-0.153603</td>\n",
              "      <td>-0.275974</td>\n",
              "      <td>-1.025201e+00</td>\n",
              "      <td>-3.987536e-01</td>\n",
              "      <td>-5.187348e-01</td>\n",
              "      <td>1.939599e-01</td>\n",
              "      <td>-7.312001e-01</td>\n",
              "      <td>0.562986</td>\n",
              "      <td>-0.017364</td>\n",
              "      <td>-0.445827</td>\n",
              "      <td>1.298569</td>\n",
              "      <td>-0.632321</td>\n",
              "      <td>-8.149012e-01</td>\n",
              "      <td>5.734169e-01</td>\n",
              "      <td>-7.121448e-01</td>\n",
              "      <td>0.085790</td>\n",
              "      <td>0</td>\n",
              "    </tr>\n",
              "    <tr>\n",
              "      <th>Algeria</th>\n",
              "      <td>0.035618</td>\n",
              "      <td>0.998421</td>\n",
              "      <td>-0.220490</td>\n",
              "      <td>-0.292889</td>\n",
              "      <td>-8.834605e-02</td>\n",
              "      <td>-1.284888e-01</td>\n",
              "      <td>-3.688063e-01</td>\n",
              "      <td>-6.800381e-01</td>\n",
              "      <td>-7.005969e-01</td>\n",
              "      <td>-0.816517</td>\n",
              "      <td>-0.519408</td>\n",
              "      <td>0.928767</td>\n",
              "      <td>-1.717937</td>\n",
              "      <td>-0.449072</td>\n",
              "      <td>-9.385141e-01</td>\n",
              "      <td>-3.521823e-01</td>\n",
              "      <td>2.385742e+00</td>\n",
              "      <td>-1.671672</td>\n",
              "      <td>0</td>\n",
              "    </tr>\n",
              "    <tr>\n",
              "      <th>American Samoa</th>\n",
              "      <td>-0.243834</td>\n",
              "      <td>-0.334779</td>\n",
              "      <td>-0.053514</td>\n",
              "      <td>0.514709</td>\n",
              "      <td>-4.281495e+00</td>\n",
              "      <td>-7.479882e-01</td>\n",
              "      <td>-1.689017e-01</td>\n",
              "      <td>7.501404e-01</td>\n",
              "      <td>1.039557e-01</td>\n",
              "      <td>-0.293124</td>\n",
              "      <td>1.256409</td>\n",
              "      <td>-0.414019</td>\n",
              "      <td>-0.209684</td>\n",
              "      <td>0.031168</td>\n",
              "      <td>-1.210057e+00</td>\n",
              "      <td>1.961110e-16</td>\n",
              "      <td>4.173963e-16</td>\n",
              "      <td>0.000000</td>\n",
              "      <td>0</td>\n",
              "    </tr>\n",
              "    <tr>\n",
              "      <th>Andorra</th>\n",
              "      <td>-0.243720</td>\n",
              "      <td>-0.334629</td>\n",
              "      <td>-0.137002</td>\n",
              "      <td>-0.293443</td>\n",
              "      <td>1.354081e+00</td>\n",
              "      <td>-8.968049e-01</td>\n",
              "      <td>9.305737e-01</td>\n",
              "      <td>9.090492e-01</td>\n",
              "      <td>1.158212e+00</td>\n",
              "      <td>-0.893713</td>\n",
              "      <td>-0.549507</td>\n",
              "      <td>1.006727</td>\n",
              "      <td>1.298569</td>\n",
              "      <td>-1.210053</td>\n",
              "      <td>-6.061780e-01</td>\n",
              "      <td>1.961110e-16</td>\n",
              "      <td>4.173963e-16</td>\n",
              "      <td>0.000000</td>\n",
              "      <td>0</td>\n",
              "    </tr>\n",
              "    <tr>\n",
              "      <th>Anguilla</th>\n",
              "      <td>-0.244210</td>\n",
              "      <td>-0.334834</td>\n",
              "      <td>-0.149075</td>\n",
              "      <td>0.535644</td>\n",
              "      <td>2.212520e+00</td>\n",
              "      <td>-4.127230e-01</td>\n",
              "      <td>-1.089303e-01</td>\n",
              "      <td>6.442013e-01</td>\n",
              "      <td>9.932214e-01</td>\n",
              "      <td>-1.065089</td>\n",
              "      <td>-0.549507</td>\n",
              "      <td>1.145185</td>\n",
              "      <td>-0.209684</td>\n",
              "      <td>-0.717176</td>\n",
              "      <td>-7.905840e-01</td>\n",
              "      <td>-7.831865e-01</td>\n",
              "      <td>-7.722980e-01</td>\n",
              "      <td>1.342908</td>\n",
              "      <td>0</td>\n",
              "    </tr>\n",
              "    <tr>\n",
              "      <th>...</th>\n",
              "      <td>...</td>\n",
              "      <td>...</td>\n",
              "      <td>...</td>\n",
              "      <td>...</td>\n",
              "      <td>...</td>\n",
              "      <td>...</td>\n",
              "      <td>...</td>\n",
              "      <td>...</td>\n",
              "      <td>...</td>\n",
              "      <td>...</td>\n",
              "      <td>...</td>\n",
              "      <td>...</td>\n",
              "      <td>...</td>\n",
              "      <td>...</td>\n",
              "      <td>...</td>\n",
              "      <td>...</td>\n",
              "      <td>...</td>\n",
              "      <td>...</td>\n",
              "      <td>...</td>\n",
              "    </tr>\n",
              "    <tr>\n",
              "      <th>Vietnam</th>\n",
              "      <td>0.473196</td>\n",
              "      <td>-0.150401</td>\n",
              "      <td>-0.074220</td>\n",
              "      <td>-0.278886</td>\n",
              "      <td>-1.007274e-01</td>\n",
              "      <td>-2.724590e-01</td>\n",
              "      <td>-7.186394e-01</td>\n",
              "      <td>3.952443e-01</td>\n",
              "      <td>-2.144946e-01</td>\n",
              "      <td>0.476526</td>\n",
              "      <td>0.166840</td>\n",
              "      <td>-0.471398</td>\n",
              "      <td>-0.209684</td>\n",
              "      <td>-0.474348</td>\n",
              "      <td>-6.122573e-01</td>\n",
              "      <td>4.109071e-01</td>\n",
              "      <td>9.571050e-01</td>\n",
              "      <td>-1.152564</td>\n",
              "      <td>0</td>\n",
              "    </tr>\n",
              "    <tr>\n",
              "      <th>Virgin Islands</th>\n",
              "      <td>-0.243402</td>\n",
              "      <td>-0.333822</td>\n",
              "      <td>-0.194472</td>\n",
              "      <td>-0.157018</td>\n",
              "      <td>-1.852688e+00</td>\n",
              "      <td>-7.833393e-01</td>\n",
              "      <td>7.506595e-01</td>\n",
              "      <td>-7.527430e-16</td>\n",
              "      <td>1.848336e+00</td>\n",
              "      <td>-0.157258</td>\n",
              "      <td>-0.195547</td>\n",
              "      <td>0.228373</td>\n",
              "      <td>-0.209684</td>\n",
              "      <td>-0.736133</td>\n",
              "      <td>-5.697021e-01</td>\n",
              "      <td>-9.951558e-01</td>\n",
              "      <td>-6.971065e-01</td>\n",
              "      <td>1.467994</td>\n",
              "      <td>0</td>\n",
              "    </tr>\n",
              "    <tr>\n",
              "      <th>Wallis and Futuna</th>\n",
              "      <td>-0.244189</td>\n",
              "      <td>-0.334737</td>\n",
              "      <td>-0.193506</td>\n",
              "      <td>0.359290</td>\n",
              "      <td>-4.295642e-18</td>\n",
              "      <td>-4.051365e-16</td>\n",
              "      <td>-5.986966e-01</td>\n",
              "      <td>-1.739430e+00</td>\n",
              "      <td>-5.209697e-01</td>\n",
              "      <td>-0.679107</td>\n",
              "      <td>2.460353</td>\n",
              "      <td>-0.725860</td>\n",
              "      <td>-0.209684</td>\n",
              "      <td>0.000000</td>\n",
              "      <td>7.199359e-16</td>\n",
              "      <td>1.961110e-16</td>\n",
              "      <td>4.173963e-16</td>\n",
              "      <td>0.000000</td>\n",
              "      <td>0</td>\n",
              "    </tr>\n",
              "    <tr>\n",
              "      <th>West Bank</th>\n",
              "      <td>-0.223408</td>\n",
              "      <td>-0.331610</td>\n",
              "      <td>0.024662</td>\n",
              "      <td>-0.293443</td>\n",
              "      <td>6.070728e-01</td>\n",
              "      <td>-4.529206e-01</td>\n",
              "      <td>-8.885583e-01</td>\n",
              "      <td>-7.527430e-16</td>\n",
              "      <td>-4.029923e-01</td>\n",
              "      <td>0.239532</td>\n",
              "      <td>1.734375</td>\n",
              "      <td>-1.091961</td>\n",
              "      <td>1.298569</td>\n",
              "      <td>0.862560</td>\n",
              "      <td>-1.078338e+00</td>\n",
              "      <td>-4.299044e-01</td>\n",
              "      <td>-2.038365e-02</td>\n",
              "      <td>0.404760</td>\n",
              "      <td>0</td>\n",
              "    </tr>\n",
              "    <tr>\n",
              "      <th>Western Sahara</th>\n",
              "      <td>-0.242004</td>\n",
              "      <td>-0.185982</td>\n",
              "      <td>-0.228217</td>\n",
              "      <td>-0.287620</td>\n",
              "      <td>-4.295642e-18</td>\n",
              "      <td>-4.051365e-16</td>\n",
              "      <td>1.818122e-16</td>\n",
              "      <td>-7.527430e-16</td>\n",
              "      <td>3.781713e-16</td>\n",
              "      <td>-1.063546</td>\n",
              "      <td>-0.549507</td>\n",
              "      <td>1.143937</td>\n",
              "      <td>-1.717937</td>\n",
              "      <td>0.000000</td>\n",
              "      <td>7.199359e-16</td>\n",
              "      <td>1.961110e-16</td>\n",
              "      <td>4.173963e-16</td>\n",
              "      <td>-1.033732</td>\n",
              "      <td>0</td>\n",
              "    </tr>\n",
              "  </tbody>\n",
              "</table>\n",
              "<p>160 rows × 19 columns</p>\n",
              "</div>\n",
              "      <button class=\"colab-df-convert\" onclick=\"convertToInteractive('df-4c0e3713-e570-4d46-aca1-3ec2851e586e')\"\n",
              "              title=\"Convert this dataframe to an interactive table.\"\n",
              "              style=\"display:none;\">\n",
              "        \n",
              "  <svg xmlns=\"http://www.w3.org/2000/svg\" height=\"24px\"viewBox=\"0 0 24 24\"\n",
              "       width=\"24px\">\n",
              "    <path d=\"M0 0h24v24H0V0z\" fill=\"none\"/>\n",
              "    <path d=\"M18.56 5.44l.94 2.06.94-2.06 2.06-.94-2.06-.94-.94-2.06-.94 2.06-2.06.94zm-11 1L8.5 8.5l.94-2.06 2.06-.94-2.06-.94L8.5 2.5l-.94 2.06-2.06.94zm10 10l.94 2.06.94-2.06 2.06-.94-2.06-.94-.94-2.06-.94 2.06-2.06.94z\"/><path d=\"M17.41 7.96l-1.37-1.37c-.4-.4-.92-.59-1.43-.59-.52 0-1.04.2-1.43.59L10.3 9.45l-7.72 7.72c-.78.78-.78 2.05 0 2.83L4 21.41c.39.39.9.59 1.41.59.51 0 1.02-.2 1.41-.59l7.78-7.78 2.81-2.81c.8-.78.8-2.07 0-2.86zM5.41 20L4 18.59l7.72-7.72 1.47 1.35L5.41 20z\"/>\n",
              "  </svg>\n",
              "      </button>\n",
              "      \n",
              "  <style>\n",
              "    .colab-df-container {\n",
              "      display:flex;\n",
              "      flex-wrap:wrap;\n",
              "      gap: 12px;\n",
              "    }\n",
              "\n",
              "    .colab-df-convert {\n",
              "      background-color: #E8F0FE;\n",
              "      border: none;\n",
              "      border-radius: 50%;\n",
              "      cursor: pointer;\n",
              "      display: none;\n",
              "      fill: #1967D2;\n",
              "      height: 32px;\n",
              "      padding: 0 0 0 0;\n",
              "      width: 32px;\n",
              "    }\n",
              "\n",
              "    .colab-df-convert:hover {\n",
              "      background-color: #E2EBFA;\n",
              "      box-shadow: 0px 1px 2px rgba(60, 64, 67, 0.3), 0px 1px 3px 1px rgba(60, 64, 67, 0.15);\n",
              "      fill: #174EA6;\n",
              "    }\n",
              "\n",
              "    [theme=dark] .colab-df-convert {\n",
              "      background-color: #3B4455;\n",
              "      fill: #D2E3FC;\n",
              "    }\n",
              "\n",
              "    [theme=dark] .colab-df-convert:hover {\n",
              "      background-color: #434B5C;\n",
              "      box-shadow: 0px 1px 3px 1px rgba(0, 0, 0, 0.15);\n",
              "      filter: drop-shadow(0px 1px 2px rgba(0, 0, 0, 0.3));\n",
              "      fill: #FFFFFF;\n",
              "    }\n",
              "  </style>\n",
              "\n",
              "      <script>\n",
              "        const buttonEl =\n",
              "          document.querySelector('#df-4c0e3713-e570-4d46-aca1-3ec2851e586e button.colab-df-convert');\n",
              "        buttonEl.style.display =\n",
              "          google.colab.kernel.accessAllowed ? 'block' : 'none';\n",
              "\n",
              "        async function convertToInteractive(key) {\n",
              "          const element = document.querySelector('#df-4c0e3713-e570-4d46-aca1-3ec2851e586e');\n",
              "          const dataTable =\n",
              "            await google.colab.kernel.invokeFunction('convertToInteractive',\n",
              "                                                     [key], {});\n",
              "          if (!dataTable) return;\n",
              "\n",
              "          const docLinkHtml = 'Like what you see? Visit the ' +\n",
              "            '<a target=\"_blank\" href=https://colab.research.google.com/notebooks/data_table.ipynb>data table notebook</a>'\n",
              "            + ' to learn more about interactive tables.';\n",
              "          element.innerHTML = '';\n",
              "          dataTable['output_type'] = 'display_data';\n",
              "          await google.colab.output.renderOutput(dataTable, element);\n",
              "          const docLink = document.createElement('div');\n",
              "          docLink.innerHTML = docLinkHtml;\n",
              "          element.appendChild(docLink);\n",
              "        }\n",
              "      </script>\n",
              "    </div>\n",
              "  </div>\n",
              "  "
            ]
          },
          "metadata": {},
          "execution_count": 24
        }
      ]
    },
    {
      "cell_type": "code",
      "source": [
        "for feature in X.columns:\n",
        "  for cluster in [0,1]:\n",
        "    cond = labels_df['labels']==cluster\n",
        "    new_df = labels_df[cond].copy()\n",
        "    new_df[feature].hist(label=cluster, alpha=0.5)\n",
        "  plt.title(feature)\n",
        "  plt.legend()\n",
        "  plt.show()"
      ],
      "metadata": {
        "colab": {
          "base_uri": "https://localhost:8080/",
          "height": 1000
        },
        "id": "GPw8ga9Ldid_",
        "outputId": "e471bcf9-e7b8-4d3b-a698-fe2961c4fb65"
      },
      "execution_count": null,
      "outputs": [
        {
          "output_type": "display_data",
          "data": {
            "text/plain": [
              "<Figure size 432x288 with 1 Axes>"
            ],
            "image/png": "[encoded data removed]"
          },
          "metadata": {
            "needs_background": "light"
          }
        },
        {
          "output_type": "display_data",
          "data": {
            "text/plain": [
              "<Figure size 432x288 with 1 Axes>"
            ],
            "image/png": "[encoded data removed]"
          },
          "metadata": {
            "needs_background": "light"
          }
        },
        {
          "output_type": "display_data",
          "data": {
            "text/plain": [
              "<Figure size 432x288 with 1 Axes>"
            ],
            "image/png": "[encoded data removed]"
          },
          "metadata": {
            "needs_background": "light"
          }
        },
        {
          "output_type": "display_data",
          "data": {
            "text/plain": [
              "<Figure size 432x288 with 1 Axes>"
            ],
            "image/png": "[encoded data removed]"
          },
          "metadata": {
            "needs_background": "light"
          }
        },
        {
          "output_type": "display_data",
          "data": {
            "text/plain": [
              "<Figure size 432x288 with 1 Axes>"
            ],
            "image/png": "[encoded data removed]"
          },
          "metadata": {
            "needs_background": "light"
          }
        },
        {
          "output_type": "display_data",
          "data": {
            "text/plain": [
              "<Figure size 432x288 with 1 Axes>"
            ],
            "image/png": "[encoded data removed]"
          },
          "metadata": {
            "needs_background": "light"
          }
        },
        {
          "output_type": "display_data",
          "data": {
            "text/plain": [
              "<Figure size 432x288 with 1 Axes>"
            ],
            "image/png": "[encoded data removed]"
          },
          "metadata": {
            "needs_background": "light"
          }
        },
        {
          "output_type": "display_data",
          "data": {
            "text/plain": [
              "<Figure size 432x288 with 1 Axes>"
            ],
            "image/png": "[encoded data removed]"
          },
          "metadata": {
            "needs_background": "light"
          }
        },
        {
          "output_type": "display_data",
          "data": {
            "text/plain": [
              "<Figure size 432x288 with 1 Axes>"
            ],
            "image/png": "[encoded data removed]"
          },
          "metadata": {
            "needs_background": "light"
          }
        },
        {
          "output_type": "display_data",
          "data": {
            "text/plain": [
              "<Figure size 432x288 with 1 Axes>"
            ],
            "image/png": "[encoded data removed]"
          },
          "metadata": {
            "needs_background": "light"
          }
        },
        {
          "output_type": "display_data",
          "data": {
            "text/plain": [
              "<Figure size 432x288 with 1 Axes>"
            ],
            "image/png": "[encoded data removed]"
          },
          "metadata": {
            "needs_background": "light"
          }
        },
        {
          "output_type": "display_data",
          "data": {
            "text/plain": [
              "<Figure size 432x288 with 1 Axes>"
            ],
            "image/png": "[encoded data removed]"
          },
          "metadata": {
            "needs_background": "light"
          }
        },
        {
          "output_type": "display_data",
          "data": {
            "text/plain": [
              "<Figure size 432x288 with 1 Axes>"
            ],
            "image/png": "[encoded data removed]"
          },
          "metadata": {
            "needs_background": "light"
          }
        },
        {
          "output_type": "display_data",
          "data": {
            "text/plain": [
              "<Figure size 432x288 with 1 Axes>"
            ],
            "image/png": "[encoded data removed]"
          },
          "metadata": {
            "needs_background": "light"
          }
        },
        {
          "output_type": "display_data",
          "data": {
            "text/plain": [
              "<Figure size 432x288 with 1 Axes>"
            ],
            "image/png": "[encoded data removed]"
          },
          "metadata": {
            "needs_background": "light"
          }
        },
        {
          "output_type": "display_data",
          "data": {
            "text/plain": [
              "<Figure size 432x288 with 1 Axes>"
            ],
            "image/png": "[encoded data removed]"
          },
          "metadata": {
            "needs_background": "light"
          }
        },
        {
          "output_type": "display_data",
          "data": {
            "text/plain": [
              "<Figure size 432x288 with 1 Axes>"
            ],
            "image/png": "[encoded data removed]"
          },
          "metadata": {
            "needs_background": "light"
          }
        },
        {
          "output_type": "display_data",
          "data": {
            "text/plain": [
              "<Figure size 432x288 with 1 Axes>"
            ],
            "image/png": "[encoded data removed]"
          },
          "metadata": {
            "needs_background": "light"
          }
        }
      ]
    }
  ],
  "metadata": {
    "interpreter": {
      "hash": "683afeb50c3c1573d935b61d39c98ac70efc278eee8b1f68409fbbfcfc207edd"
    },
    "kernelspec": {
      "display_name": "Python 3.8.8 ('base')",
      "language": "python",
      "name": "python3"
    },
    "language_info": {
      "codemirror_mode": {
        "name": "ipython",
        "version": 3
      },
      "file_extension": ".py",
      "mimetype": "text/x-python",
      "name": "python",
      "nbconvert_exporter": "python",
      "pygments_lexer": "ipython3",
      "version": "3.8.8"
    },
    "orig_nbformat": 4,
    "colab": {
      "name": "Hierarchical clustering(with dendrogram).ipynb",
      "provenance": [],
      "collapsed_sections": []
    }
  },
  "nbformat": 4,
  "nbformat_minor": 0
}